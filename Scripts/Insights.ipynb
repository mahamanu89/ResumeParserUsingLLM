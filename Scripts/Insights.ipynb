{
 "cells": [
  {
   "cell_type": "code",
   "execution_count": 1,
   "id": "5ebd41a5-db97-42cc-9568-571f432797fb",
   "metadata": {},
   "outputs": [],
   "source": [
    "import pandas as pd\n",
    "# Read the CSV file\n",
    "df = pd.read_csv('final111_Resume_details_all_new.csv')\n",
    "\n",
    "# # Display the first few rows of the DataFrame\n",
    "# print(df.head())\n",
    "\n",
    "# missing_values = df.isnull().sum()\n",
    "# print(missing_values)"
   ]
  },
  {
   "cell_type": "code",
   "execution_count": 2,
   "id": "275d4ec1-e302-4e45-b8d8-81ada3f30dfd",
   "metadata": {},
   "outputs": [
    {
     "name": "stderr",
     "output_type": "stream",
     "text": [
      "C:\\Users\\manoj\\AppData\\Local\\Temp\\ipykernel_25780\\2064930056.py:2: FutureWarning: DataFrame.applymap has been deprecated. Use DataFrame.map instead.\n",
      "  df=df.applymap(lambda x: x.upper() if isinstance(x, str) else x)\n"
     ]
    },
    {
     "data": {
      "application/vnd.jupyter.widget-view+json": {
       "model_id": "238b472ec9c648eb83b0626b13f8f2ef",
       "version_major": 2,
       "version_minor": 0
      },
      "text/plain": [
       "                                             |                                             | [  0%]   00:00 ->…"
      ]
     },
     "metadata": {},
     "output_type": "display_data"
    },
    {
     "name": "stdout",
     "output_type": "stream",
     "text": [
      "Report Report.html was generated! NOTEBOOK/COLAB USERS: the web browser MAY not pop up, regardless, the report IS saved in your notebook/colab files.\n"
     ]
    }
   ],
   "source": [
    "\n",
    "import sweetviz as sv\n",
    "df=df.applymap(lambda x: x.upper() if isinstance(x, str) else x)\n",
    "report = sv.analyze(df)\n",
    "report.show_html('Report.html')\n",
    "\n",
    "\n"
   ]
  },
  {
   "cell_type": "code",
   "execution_count": 3,
   "id": "0a8b5fd4-0c95-47bd-a5b2-36f18ee912a1",
   "metadata": {},
   "outputs": [],
   "source": [
    "import re\n",
    "def replace_numbers_with_x(text):\n",
    "    # print(text)\n",
    "    return re.sub(r'\\d+', 'X', text)\n",
    "  "
   ]
  },
  {
   "cell_type": "code",
   "execution_count": 26,
   "id": "fef55263-89e4-4c88-a0fd-bf935015279d",
   "metadata": {},
   "outputs": [
    {
     "name": "stdout",
     "output_type": "stream",
     "text": [
      "0     Analysis of Vectors, Matrices and their repres...\n",
      "1     Clicker Response Systems at IIT Bombay, Generi...\n",
      "2     Project in NIAS(at IISC) after Xrd Year on Act...\n",
      "3     Project under Prof Tim Poston (May- July X) at...\n",
      "4     Project in Electronics and Radar Development (...\n",
      "                            ...                        \n",
      "95    Worked on the study and implementation of Para...\n",
      "96    Implementation of TSP by Genetic Algorithm, Ad...\n",
      "97        Neural Network Project in DRDO CAIR BANGALORE\n",
      "98    Redesigning the college website using Joomla (...\n",
      "99                             Not explicitly mentioned\n",
      "Name: text, Length: 100, dtype: object\n"
     ]
    },
    {
     "name": "stderr",
     "output_type": "stream",
     "text": [
      "C:\\Users\\manoj\\AppData\\Local\\Temp\\ipykernel_25780\\652928092.py:21: FutureWarning: DataFrame.applymap has been deprecated. Use DataFrame.map instead.\n",
      "  df=df.applymap(lambda x: x.replace('[','') if isinstance(x, str) else x)\n",
      "C:\\Users\\manoj\\AppData\\Local\\Temp\\ipykernel_25780\\652928092.py:22: FutureWarning: DataFrame.applymap has been deprecated. Use DataFrame.map instead.\n",
      "  df=df.applymap(lambda x: x.replace(']','') if isinstance(x, str) else x)\n",
      "C:\\Users\\manoj\\AppData\\Local\\Temp\\ipykernel_25780\\652928092.py:23: FutureWarning: DataFrame.applymap has been deprecated. Use DataFrame.map instead.\n",
      "  df=df.applymap(lambda x: x.replace(\"'\",'') if isinstance(x, str) else x)\n",
      "C:\\Users\\manoj\\AppData\\Local\\Temp\\ipykernel_25780\\652928092.py:24: FutureWarning: DataFrame.applymap has been deprecated. Use DataFrame.map instead.\n",
      "  df=df.applymap(lambda x: x.replace(\"'\",'') if isinstance(x, str) else x)\n",
      "C:\\Users\\manoj\\AppData\\Local\\Temp\\ipykernel_25780\\652928092.py:25: FutureWarning: DataFrame.applymap has been deprecated. Use DataFrame.map instead.\n",
      "  df=df.applymap(lambda x: x.replace('\"','') if isinstance(x, str) else x)\n",
      "C:\\Users\\manoj\\AppData\\Local\\Temp\\ipykernel_25780\\652928092.py:26: FutureWarning: DataFrame.applymap has been deprecated. Use DataFrame.map instead.\n",
      "  df=df.applymap(lambda x: x.replace('{','') if isinstance(x, str) else x)\n",
      "C:\\Users\\manoj\\AppData\\Local\\Temp\\ipykernel_25780\\652928092.py:27: FutureWarning: DataFrame.applymap has been deprecated. Use DataFrame.map instead.\n",
      "  df=df.applymap(lambda x: x.replace('}','') if isinstance(x, str) else x)\n",
      "C:\\Users\\manoj\\AppData\\Local\\Temp\\ipykernel_25780\\652928092.py:31: FutureWarning: DataFrame.applymap has been deprecated. Use DataFrame.map instead.\n",
      "  df=df.applymap(replace_numbers_with_x)\n"
     ]
    }
   ],
   "source": [
    "import pandas as pd\n",
    "from umap import UMAP\n",
    "import numpy as np\n",
    "\n",
    "# pip install -U sentence-transformers\n",
    "from sentence_transformers import SentenceTransformer\n",
    "\n",
    "# Load the universal sentence encoder\n",
    "model = SentenceTransformer('paraphrase-MiniLM-L6-v2')\n",
    "\n",
    "# Load original dataset\n",
    "df_org = pd.read_csv(\"final111_Resume_details_all_new.csv\")\n",
    "df_org = df_org.replace('[]',np.nan)\n",
    "df_org=df_org.dropna(subset=['research experience'])\n",
    "# print(df_org)\n",
    "df = df_org[['research experience']]\n",
    "df=df.reset_index()\n",
    "df=df.drop(columns=['index'])\n",
    "df=df.rename(columns={\"research experience\": \"text\"})\n",
    "df = df.replace('[]',\"\")\n",
    "df=df.applymap(lambda x: x.replace('[','') if isinstance(x, str) else x)\n",
    "df=df.applymap(lambda x: x.replace(']','') if isinstance(x, str) else x)\n",
    "df=df.applymap(lambda x: x.replace(\"'\",'') if isinstance(x, str) else x)\n",
    "df=df.applymap(lambda x: x.replace(\"'\",'') if isinstance(x, str) else x)\n",
    "df=df.applymap(lambda x: x.replace('\"','') if isinstance(x, str) else x)\n",
    "df=df.applymap(lambda x: x.replace('{','') if isinstance(x, str) else x)\n",
    "df=df.applymap(lambda x: x.replace('}','') if isinstance(x, str) else x)\n",
    "# print(df)\n",
    "df=df.fillna('')\n",
    "# df = df.dropna()\n",
    "df=df.applymap(replace_numbers_with_x)\n",
    "sentences = df['text']\n",
    "print(sentences)"
   ]
  },
  {
   "cell_type": "code",
   "execution_count": 27,
   "id": "2c56a333-7423-40f9-b718-97704217f0df",
   "metadata": {},
   "outputs": [],
   "source": [
    "\n",
    "# Calculate embeddings \n",
    "X =  model.encode(sentences)\n",
    "\n"
   ]
  },
  {
   "cell_type": "code",
   "execution_count": 28,
   "id": "315060a7-f8a1-4899-85f3-f58f4f6542d9",
   "metadata": {},
   "outputs": [],
   "source": [
    "# Reduce the dimensions with UMAP\n",
    "umap = UMAP()\n",
    "X_tfm = umap.fit_transform(X)\n",
    "\n",
    "# Apply coordinates\n",
    "df['x'] = X_tfm[:, 0]\n",
    "df['y'] = X_tfm[:, 1]\n",
    "df['name']=df_org['full name']\n",
    "df = df.dropna()\n",
    "df['text']=df['name']+\"-\"+df['text']\n",
    "df.to_csv(\"ready.csv\")"
   ]
  },
  {
   "cell_type": "code",
   "execution_count": 29,
   "id": "16f72034-2528-44d5-b343-54303a6ac055",
   "metadata": {},
   "outputs": [
    {
     "name": "stdout",
     "output_type": "stream",
     "text": [
      "                                                 text         x          y  \\\n",
      "0   A. Narayana Vyas-Analysis of Vectors, Matrices...  3.545322   8.511574   \n",
      "1   AAYUSH SAXENA-Clicker Response Systems at IIT ...  2.072303   9.201534   \n",
      "3   ABHIRUP DUTTA-Project under Prof Tim Poston (M...  3.212876   7.744281   \n",
      "4   ABHISHEK K-Project in Electronics and Radar De...  0.318698   9.305076   \n",
      "5   ABHISHEK S-Project in Silverlight and its appl...  3.647610   9.513940   \n",
      "..                                                ...       ...        ...   \n",
      "93  SHAILESH MOTA-Worked under Prof. Tim Poston, N...  2.919447   7.443341   \n",
      "94  SHASHI KANT-Minimization of the Leeching Probl...  0.075387   8.175785   \n",
      "97  SHREYA ROY CHOWDHURY-Neural Network Project in...  3.990090   9.085879   \n",
      "98  SHREYAS TONSE-Redesigning the college website ...  0.428820  10.338469   \n",
      "99       SHRUTI PRAMOD KUMAR-Not explicitly mentioned  2.715653   9.999318   \n",
      "\n",
      "                    name  \n",
      "0       A. Narayana Vyas  \n",
      "1          AAYUSH SAXENA  \n",
      "3          ABHIRUP DUTTA  \n",
      "4             ABHISHEK K  \n",
      "5             ABHISHEK S  \n",
      "..                   ...  \n",
      "93         SHAILESH MOTA  \n",
      "94           SHASHI KANT  \n",
      "97  SHREYA ROY CHOWDHURY  \n",
      "98         SHREYAS TONSE  \n",
      "99   SHRUTI PRAMOD KUMAR  \n",
      "\n",
      "[78 rows x 4 columns]\n"
     ]
    }
   ],
   "source": [
    "print(df)"
   ]
  },
  {
   "cell_type": "code",
   "execution_count": null,
   "id": "f468bcc3-50ed-477b-af0c-c4cc306eb199",
   "metadata": {},
   "outputs": [],
   "source": [
    "!python -m bulk text ready.csv\n",
    "# netstat -ano | findstr :5006\n",
    "# taskkill /PID 9616 /F"
   ]
  }
 ],
 "metadata": {
  "kernelspec": {
   "display_name": "Python 3 (ipykernel)",
   "language": "python",
   "name": "python3"
  },
  "language_info": {
   "codemirror_mode": {
    "name": "ipython",
    "version": 3
   },
   "file_extension": ".py",
   "mimetype": "text/x-python",
   "name": "python",
   "nbconvert_exporter": "python",
   "pygments_lexer": "ipython3",
   "version": "3.11.0"
  }
 },
 "nbformat": 4,
 "nbformat_minor": 5
}
